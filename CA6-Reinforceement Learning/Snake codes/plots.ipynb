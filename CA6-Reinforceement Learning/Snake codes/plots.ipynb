{
 "cells": [
  {
   "cell_type": "code",
   "execution_count": null,
   "metadata": {},
   "outputs": [],
   "source": [
    "from cube import Cube\n",
    "from constants import *\n",
    "from utility import *\n",
    "\n",
    "# from snake import *\n",
    "from utility import *\n",
    "from cube import *\n",
    "from main import *\n",
    "from tkinter import messagebox\n",
    "# from snake import Snake\n",
    "\n",
    "import random\n",
    "import random\n",
    "import numpy as np\n",
    "from enum import Enum"
   ]
  },
  {
   "cell_type": "code",
   "execution_count": null,
   "metadata": {},
   "outputs": [],
   "source": [
    "def plot_rewards():\n",
    "    rewards = np.load(\"rewards.npy\")\n",
    "    rewards_1 = [r[0] for r in rewards]\n",
    "    rewards_2 = [r[1] for r in rewards]\n",
    "    plt.plot(rewards_1, label='Snake 1 Rewards')\n",
    "    plt.plot(rewards_2, label='Snake 2 Rewards')\n",
    "    plt.xlabel('Episode')\n",
    "    plt.ylabel('Reward')\n",
    "    plt.title('Rewards Over Time')\n",
    "    plt.legend()\n",
    "    plt.show()"
   ]
  },
  {
   "cell_type": "code",
   "execution_count": null,
   "metadata": {},
   "outputs": [],
   "source": [
    "plot_rewards()"
   ]
  }
 ],
 "metadata": {
  "language_info": {
   "name": "python"
  }
 },
 "nbformat": 4,
 "nbformat_minor": 2
}
